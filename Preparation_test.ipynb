{
 "cells": [
  {
   "cell_type": "code",
   "execution_count": 1,
   "id": "c7c5a7ed-9c55-4be8-803e-6c1014ae1ec2",
   "metadata": {},
   "outputs": [],
   "source": [
    "# Modules\n",
    "import pandas as pd\n",
    "import numpy as np\n",
    "import seaborn as sns\n",
    "import matplotlib.pyplot as plt\n",
    "%matplotlib inline"
   ]
  },
  {
   "cell_type": "code",
   "execution_count": 2,
   "id": "7d4dfb01-fcc6-4f7b-ad46-b80936fb306e",
   "metadata": {},
   "outputs": [
    {
     "data": {
      "text/html": [
       "<div>\n",
       "<style scoped>\n",
       "    .dataframe tbody tr th:only-of-type {\n",
       "        vertical-align: middle;\n",
       "    }\n",
       "\n",
       "    .dataframe tbody tr th {\n",
       "        vertical-align: top;\n",
       "    }\n",
       "\n",
       "    .dataframe thead th {\n",
       "        text-align: right;\n",
       "    }\n",
       "</style>\n",
       "<table border=\"1\" class=\"dataframe\">\n",
       "  <thead>\n",
       "    <tr style=\"text-align: right;\">\n",
       "      <th></th>\n",
       "      <th>id</th>\n",
       "      <th>Brand</th>\n",
       "      <th>Material</th>\n",
       "      <th>Size</th>\n",
       "      <th>Compartments</th>\n",
       "      <th>Laptop Compartment</th>\n",
       "      <th>Waterproof</th>\n",
       "      <th>Style</th>\n",
       "      <th>Color</th>\n",
       "      <th>Weight Capacity (kg)</th>\n",
       "    </tr>\n",
       "  </thead>\n",
       "  <tbody>\n",
       "    <tr>\n",
       "      <th>0</th>\n",
       "      <td>300000</td>\n",
       "      <td>Puma</td>\n",
       "      <td>Leather</td>\n",
       "      <td>Small</td>\n",
       "      <td>2.0</td>\n",
       "      <td>No</td>\n",
       "      <td>No</td>\n",
       "      <td>Tote</td>\n",
       "      <td>Green</td>\n",
       "      <td>20.671147</td>\n",
       "    </tr>\n",
       "    <tr>\n",
       "      <th>1</th>\n",
       "      <td>300001</td>\n",
       "      <td>Nike</td>\n",
       "      <td>Canvas</td>\n",
       "      <td>Medium</td>\n",
       "      <td>7.0</td>\n",
       "      <td>No</td>\n",
       "      <td>Yes</td>\n",
       "      <td>Backpack</td>\n",
       "      <td>Green</td>\n",
       "      <td>13.564105</td>\n",
       "    </tr>\n",
       "    <tr>\n",
       "      <th>2</th>\n",
       "      <td>300002</td>\n",
       "      <td>Adidas</td>\n",
       "      <td>Canvas</td>\n",
       "      <td>Large</td>\n",
       "      <td>9.0</td>\n",
       "      <td>No</td>\n",
       "      <td>Yes</td>\n",
       "      <td>Messenger</td>\n",
       "      <td>Blue</td>\n",
       "      <td>11.809799</td>\n",
       "    </tr>\n",
       "    <tr>\n",
       "      <th>3</th>\n",
       "      <td>300003</td>\n",
       "      <td>Adidas</td>\n",
       "      <td>Nylon</td>\n",
       "      <td>Large</td>\n",
       "      <td>1.0</td>\n",
       "      <td>Yes</td>\n",
       "      <td>No</td>\n",
       "      <td>Messenger</td>\n",
       "      <td>Green</td>\n",
       "      <td>18.477036</td>\n",
       "    </tr>\n",
       "    <tr>\n",
       "      <th>4</th>\n",
       "      <td>300004</td>\n",
       "      <td>NaN</td>\n",
       "      <td>Nylon</td>\n",
       "      <td>Large</td>\n",
       "      <td>2.0</td>\n",
       "      <td>Yes</td>\n",
       "      <td>Yes</td>\n",
       "      <td>Tote</td>\n",
       "      <td>Black</td>\n",
       "      <td>9.907953</td>\n",
       "    </tr>\n",
       "    <tr>\n",
       "      <th>...</th>\n",
       "      <td>...</td>\n",
       "      <td>...</td>\n",
       "      <td>...</td>\n",
       "      <td>...</td>\n",
       "      <td>...</td>\n",
       "      <td>...</td>\n",
       "      <td>...</td>\n",
       "      <td>...</td>\n",
       "      <td>...</td>\n",
       "      <td>...</td>\n",
       "    </tr>\n",
       "    <tr>\n",
       "      <th>199995</th>\n",
       "      <td>499995</td>\n",
       "      <td>Adidas</td>\n",
       "      <td>Canvas</td>\n",
       "      <td>Large</td>\n",
       "      <td>2.0</td>\n",
       "      <td>Yes</td>\n",
       "      <td>No</td>\n",
       "      <td>Messenger</td>\n",
       "      <td>Red</td>\n",
       "      <td>7.383498</td>\n",
       "    </tr>\n",
       "    <tr>\n",
       "      <th>199996</th>\n",
       "      <td>499996</td>\n",
       "      <td>Nike</td>\n",
       "      <td>Polyester</td>\n",
       "      <td>Small</td>\n",
       "      <td>9.0</td>\n",
       "      <td>No</td>\n",
       "      <td>Yes</td>\n",
       "      <td>Messenger</td>\n",
       "      <td>Pink</td>\n",
       "      <td>6.058394</td>\n",
       "    </tr>\n",
       "    <tr>\n",
       "      <th>199997</th>\n",
       "      <td>499997</td>\n",
       "      <td>Jansport</td>\n",
       "      <td>Nylon</td>\n",
       "      <td>Small</td>\n",
       "      <td>9.0</td>\n",
       "      <td>No</td>\n",
       "      <td>Yes</td>\n",
       "      <td>Tote</td>\n",
       "      <td>Green</td>\n",
       "      <td>26.890163</td>\n",
       "    </tr>\n",
       "    <tr>\n",
       "      <th>199998</th>\n",
       "      <td>499998</td>\n",
       "      <td>Puma</td>\n",
       "      <td>Nylon</td>\n",
       "      <td>Large</td>\n",
       "      <td>10.0</td>\n",
       "      <td>Yes</td>\n",
       "      <td>No</td>\n",
       "      <td>Tote</td>\n",
       "      <td>Gray</td>\n",
       "      <td>25.769153</td>\n",
       "    </tr>\n",
       "    <tr>\n",
       "      <th>199999</th>\n",
       "      <td>499999</td>\n",
       "      <td>Under Armour</td>\n",
       "      <td>Leather</td>\n",
       "      <td>Medium</td>\n",
       "      <td>8.0</td>\n",
       "      <td>Yes</td>\n",
       "      <td>Yes</td>\n",
       "      <td>Messenger</td>\n",
       "      <td>Pink</td>\n",
       "      <td>29.175026</td>\n",
       "    </tr>\n",
       "  </tbody>\n",
       "</table>\n",
       "<p>200000 rows × 10 columns</p>\n",
       "</div>"
      ],
      "text/plain": [
       "            id         Brand   Material    Size  Compartments  \\\n",
       "0       300000          Puma    Leather   Small           2.0   \n",
       "1       300001          Nike     Canvas  Medium           7.0   \n",
       "2       300002        Adidas     Canvas   Large           9.0   \n",
       "3       300003        Adidas      Nylon   Large           1.0   \n",
       "4       300004           NaN      Nylon   Large           2.0   \n",
       "...        ...           ...        ...     ...           ...   \n",
       "199995  499995        Adidas     Canvas   Large           2.0   \n",
       "199996  499996          Nike  Polyester   Small           9.0   \n",
       "199997  499997      Jansport      Nylon   Small           9.0   \n",
       "199998  499998          Puma      Nylon   Large          10.0   \n",
       "199999  499999  Under Armour    Leather  Medium           8.0   \n",
       "\n",
       "       Laptop Compartment Waterproof      Style  Color  Weight Capacity (kg)  \n",
       "0                      No         No       Tote  Green             20.671147  \n",
       "1                      No        Yes   Backpack  Green             13.564105  \n",
       "2                      No        Yes  Messenger   Blue             11.809799  \n",
       "3                     Yes         No  Messenger  Green             18.477036  \n",
       "4                     Yes        Yes       Tote  Black              9.907953  \n",
       "...                   ...        ...        ...    ...                   ...  \n",
       "199995                Yes         No  Messenger    Red              7.383498  \n",
       "199996                 No        Yes  Messenger   Pink              6.058394  \n",
       "199997                 No        Yes       Tote  Green             26.890163  \n",
       "199998                Yes         No       Tote   Gray             25.769153  \n",
       "199999                Yes        Yes  Messenger   Pink             29.175026  \n",
       "\n",
       "[200000 rows x 10 columns]"
      ]
     },
     "execution_count": 2,
     "metadata": {},
     "output_type": "execute_result"
    }
   ],
   "source": [
    "Backpack_df = pd.read_csv('Data/test.csv')\n",
    "Backpack_df"
   ]
  },
  {
   "cell_type": "markdown",
   "id": "122a91c4-cdfb-45e1-8a37-9b5febbcf526",
   "metadata": {},
   "source": [
    "## Preparation of the data frame\n",
    "\n",
    "### get_dummies\n",
    "- Brand\n",
    "- Material\n",
    "- Style\n",
    "- Color\n",
    "\n",
    "### binaries \n",
    "- Laptop Compartment\n",
    "- Waterproof\n",
    "\n",
    "### multi\n",
    "- Size"
   ]
  },
  {
   "cell_type": "code",
   "execution_count": 3,
   "id": "cec3f948-e2c6-4f71-a003-bced6cdd8ca8",
   "metadata": {},
   "outputs": [],
   "source": [
    "    def tamaño(value):\n",
    "        if value in ['Large']:\n",
    "            return 3\n",
    "        elif value in ['Medium']:\n",
    "            return 2\n",
    "        elif value in ['Small']:\n",
    "            return 1\n",
    "        else:\n",
    "            return 0"
   ]
  },
  {
   "cell_type": "code",
   "execution_count": 4,
   "id": "5e138215-7598-4a28-abed-9bc820aeaf75",
   "metadata": {},
   "outputs": [],
   "source": [
    "Backpack_df['Size'] = Backpack_df['Size'].apply(tamaño)"
   ]
  },
  {
   "cell_type": "code",
   "execution_count": 5,
   "id": "2cfdc8f1-caec-4f77-bbf8-2989803a25cf",
   "metadata": {},
   "outputs": [
    {
     "name": "stderr",
     "output_type": "stream",
     "text": [
      "/var/folders/_2/nh5rkkms0rbdwypbjgwb50xh0000gn/T/ipykernel_66072/105831996.py:2: FutureWarning: Downcasting behavior in `replace` is deprecated and will be removed in a future version. To retain the old behavior, explicitly call `result.infer_objects(copy=False)`. To opt-in to the future behavior, set `pd.set_option('future.no_silent_downcasting', True)`\n",
      "  Backpack_df['Laptop Compartment'] = Backpack_df['Laptop Compartment'].replace(\n"
     ]
    }
   ],
   "source": [
    "# 'Laptop Compartment'  yes = 1 No = 0 Nan = 0.5 'Laptop Compartment'\n",
    "Backpack_df['Laptop Compartment'] = Backpack_df['Laptop Compartment'].replace(\n",
    "    to_replace={'Yes': 1, 'No': 0}).fillna(0.5)"
   ]
  },
  {
   "cell_type": "code",
   "execution_count": 6,
   "id": "b9e77adf-27ad-4f08-ab65-420f69081650",
   "metadata": {},
   "outputs": [
    {
     "name": "stderr",
     "output_type": "stream",
     "text": [
      "/var/folders/_2/nh5rkkms0rbdwypbjgwb50xh0000gn/T/ipykernel_66072/1241050198.py:2: FutureWarning: Downcasting behavior in `replace` is deprecated and will be removed in a future version. To retain the old behavior, explicitly call `result.infer_objects(copy=False)`. To opt-in to the future behavior, set `pd.set_option('future.no_silent_downcasting', True)`\n",
      "  Backpack_df['Waterproof'] = Backpack_df['Waterproof'].replace(\n"
     ]
    }
   ],
   "source": [
    "# 'Waterproof' yes = 1 No = 0 Nan = 0.5 \n",
    "Backpack_df['Waterproof'] = Backpack_df['Waterproof'].replace(\n",
    "    to_replace={'Yes': 1, 'No': 0}).fillna(0.5)"
   ]
  },
  {
   "cell_type": "code",
   "execution_count": 7,
   "id": "1d610abc-0401-4ab4-b5d4-c48a870ce2b1",
   "metadata": {},
   "outputs": [],
   "source": [
    "brand = pd.get_dummies(data = Backpack_df['Brand'], columns = Backpack_df['Brand'].unique(),dtype=int)"
   ]
  },
  {
   "cell_type": "code",
   "execution_count": 8,
   "id": "41f1c930-e0e6-441b-8006-f660759ea888",
   "metadata": {},
   "outputs": [],
   "source": [
    "material = pd.get_dummies(data = Backpack_df['Material'], columns = Backpack_df['Material'].unique(),dtype=int)"
   ]
  },
  {
   "cell_type": "code",
   "execution_count": 9,
   "id": "d00c7431-bf63-4a7a-8661-29f539ab951d",
   "metadata": {},
   "outputs": [],
   "source": [
    "style = pd.get_dummies(data = Backpack_df['Style'], columns = Backpack_df['Style'].unique(),dtype=int)"
   ]
  },
  {
   "cell_type": "code",
   "execution_count": 10,
   "id": "63381371-bc7d-4f6d-9b72-0d8b9245f841",
   "metadata": {},
   "outputs": [],
   "source": [
    "color = pd.get_dummies(data = Backpack_df['Color'], columns = Backpack_df['Color'].unique(),dtype=int)"
   ]
  },
  {
   "cell_type": "code",
   "execution_count": 11,
   "id": "5f2cc114-1e9d-475c-9e92-ebd177cf9796",
   "metadata": {},
   "outputs": [],
   "source": [
    "BP_dummies = pd.concat ( [Backpack_df, brand, material, style,color], axis =1)"
   ]
  },
  {
   "cell_type": "code",
   "execution_count": 12,
   "id": "7149b691-db32-4072-830e-ac9b297edcb5",
   "metadata": {},
   "outputs": [],
   "source": [
    "BP_dummies = BP_dummies.drop(columns=['Brand','Material','Style','Color'])"
   ]
  },
  {
   "cell_type": "code",
   "execution_count": 15,
   "id": "993ad27b-f37c-437c-a187-39406756efa7",
   "metadata": {},
   "outputs": [],
   "source": [
    "# 'Weight Capacity (kg)' NaN = average ()\n",
    "BP_dummies['Weight Capacity (kg)'] = BP_dummies['Weight Capacity (kg)'].fillna(\n",
    "    BP_dummies['Weight Capacity (kg)'].mean())"
   ]
  },
  {
   "cell_type": "code",
   "execution_count": 16,
   "id": "e7366d58-ce2b-4cdb-a656-e83527b97eee",
   "metadata": {},
   "outputs": [
    {
     "name": "stdout",
     "output_type": "stream",
     "text": [
      "<class 'pandas.core.frame.DataFrame'>\n",
      "RangeIndex: 200000 entries, 0 to 199999\n",
      "Data columns (total 24 columns):\n",
      " #   Column                Non-Null Count   Dtype  \n",
      "---  ------                --------------   -----  \n",
      " 0   id                    200000 non-null  int64  \n",
      " 1   Size                  200000 non-null  int64  \n",
      " 2   Compartments          200000 non-null  float64\n",
      " 3   Laptop Compartment    200000 non-null  float64\n",
      " 4   Waterproof            200000 non-null  float64\n",
      " 5   Weight Capacity (kg)  200000 non-null  float64\n",
      " 6   Adidas                200000 non-null  int64  \n",
      " 7   Jansport              200000 non-null  int64  \n",
      " 8   Nike                  200000 non-null  int64  \n",
      " 9   Puma                  200000 non-null  int64  \n",
      " 10  Under Armour          200000 non-null  int64  \n",
      " 11  Canvas                200000 non-null  int64  \n",
      " 12  Leather               200000 non-null  int64  \n",
      " 13  Nylon                 200000 non-null  int64  \n",
      " 14  Polyester             200000 non-null  int64  \n",
      " 15  Backpack              200000 non-null  int64  \n",
      " 16  Messenger             200000 non-null  int64  \n",
      " 17  Tote                  200000 non-null  int64  \n",
      " 18  Black                 200000 non-null  int64  \n",
      " 19  Blue                  200000 non-null  int64  \n",
      " 20  Gray                  200000 non-null  int64  \n",
      " 21  Green                 200000 non-null  int64  \n",
      " 22  Pink                  200000 non-null  int64  \n",
      " 23  Red                   200000 non-null  int64  \n",
      "dtypes: float64(4), int64(20)\n",
      "memory usage: 36.6 MB\n"
     ]
    }
   ],
   "source": [
    "BP_dummies.info()"
   ]
  },
  {
   "cell_type": "code",
   "execution_count": 17,
   "id": "375ed980-c961-4eb8-9432-7ff85ee447f7",
   "metadata": {},
   "outputs": [],
   "source": [
    "BP_dummies.to_csv('Data/BP_dummies.test.1.csv', index=False)"
   ]
  },
  {
   "cell_type": "code",
   "execution_count": null,
   "id": "cb0719b1-ad3c-4362-ab02-b1b54284126c",
   "metadata": {},
   "outputs": [],
   "source": []
  }
 ],
 "metadata": {
  "kernelspec": {
   "display_name": "Python 3 (ipykernel)",
   "language": "python",
   "name": "python3"
  },
  "language_info": {
   "codemirror_mode": {
    "name": "ipython",
    "version": 3
   },
   "file_extension": ".py",
   "mimetype": "text/x-python",
   "name": "python",
   "nbconvert_exporter": "python",
   "pygments_lexer": "ipython3",
   "version": "3.13.1"
  }
 },
 "nbformat": 4,
 "nbformat_minor": 5
}
