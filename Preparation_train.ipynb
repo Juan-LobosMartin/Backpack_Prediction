{
 "cells": [
  {
   "cell_type": "code",
   "execution_count": 1,
   "id": "c7c5a7ed-9c55-4be8-803e-6c1014ae1ec2",
   "metadata": {},
   "outputs": [],
   "source": [
    "# Modules\n",
    "import pandas as pd\n",
    "import numpy as np\n",
    "import seaborn as sns\n",
    "import matplotlib.pyplot as plt\n",
    "%matplotlib inline"
   ]
  },
  {
   "cell_type": "code",
   "execution_count": 2,
   "id": "7d4dfb01-fcc6-4f7b-ad46-b80936fb306e",
   "metadata": {},
   "outputs": [
    {
     "data": {
      "text/html": [
       "<div>\n",
       "<style scoped>\n",
       "    .dataframe tbody tr th:only-of-type {\n",
       "        vertical-align: middle;\n",
       "    }\n",
       "\n",
       "    .dataframe tbody tr th {\n",
       "        vertical-align: top;\n",
       "    }\n",
       "\n",
       "    .dataframe thead th {\n",
       "        text-align: right;\n",
       "    }\n",
       "</style>\n",
       "<table border=\"1\" class=\"dataframe\">\n",
       "  <thead>\n",
       "    <tr style=\"text-align: right;\">\n",
       "      <th></th>\n",
       "      <th>id</th>\n",
       "      <th>Brand</th>\n",
       "      <th>Material</th>\n",
       "      <th>Size</th>\n",
       "      <th>Compartments</th>\n",
       "      <th>Laptop Compartment</th>\n",
       "      <th>Waterproof</th>\n",
       "      <th>Style</th>\n",
       "      <th>Color</th>\n",
       "      <th>Weight Capacity (kg)</th>\n",
       "      <th>Price</th>\n",
       "    </tr>\n",
       "  </thead>\n",
       "  <tbody>\n",
       "    <tr>\n",
       "      <th>0</th>\n",
       "      <td>0</td>\n",
       "      <td>Jansport</td>\n",
       "      <td>Leather</td>\n",
       "      <td>Medium</td>\n",
       "      <td>7.0</td>\n",
       "      <td>Yes</td>\n",
       "      <td>No</td>\n",
       "      <td>Tote</td>\n",
       "      <td>Black</td>\n",
       "      <td>11.611723</td>\n",
       "      <td>112.15875</td>\n",
       "    </tr>\n",
       "    <tr>\n",
       "      <th>1</th>\n",
       "      <td>1</td>\n",
       "      <td>Jansport</td>\n",
       "      <td>Canvas</td>\n",
       "      <td>Small</td>\n",
       "      <td>10.0</td>\n",
       "      <td>Yes</td>\n",
       "      <td>Yes</td>\n",
       "      <td>Messenger</td>\n",
       "      <td>Green</td>\n",
       "      <td>27.078537</td>\n",
       "      <td>68.88056</td>\n",
       "    </tr>\n",
       "    <tr>\n",
       "      <th>2</th>\n",
       "      <td>2</td>\n",
       "      <td>Under Armour</td>\n",
       "      <td>Leather</td>\n",
       "      <td>Small</td>\n",
       "      <td>2.0</td>\n",
       "      <td>Yes</td>\n",
       "      <td>No</td>\n",
       "      <td>Messenger</td>\n",
       "      <td>Red</td>\n",
       "      <td>16.643760</td>\n",
       "      <td>39.17320</td>\n",
       "    </tr>\n",
       "    <tr>\n",
       "      <th>3</th>\n",
       "      <td>3</td>\n",
       "      <td>Nike</td>\n",
       "      <td>Nylon</td>\n",
       "      <td>Small</td>\n",
       "      <td>8.0</td>\n",
       "      <td>Yes</td>\n",
       "      <td>No</td>\n",
       "      <td>Messenger</td>\n",
       "      <td>Green</td>\n",
       "      <td>12.937220</td>\n",
       "      <td>80.60793</td>\n",
       "    </tr>\n",
       "    <tr>\n",
       "      <th>4</th>\n",
       "      <td>4</td>\n",
       "      <td>Adidas</td>\n",
       "      <td>Canvas</td>\n",
       "      <td>Medium</td>\n",
       "      <td>1.0</td>\n",
       "      <td>Yes</td>\n",
       "      <td>Yes</td>\n",
       "      <td>Messenger</td>\n",
       "      <td>Green</td>\n",
       "      <td>17.749338</td>\n",
       "      <td>86.02312</td>\n",
       "    </tr>\n",
       "    <tr>\n",
       "      <th>...</th>\n",
       "      <td>...</td>\n",
       "      <td>...</td>\n",
       "      <td>...</td>\n",
       "      <td>...</td>\n",
       "      <td>...</td>\n",
       "      <td>...</td>\n",
       "      <td>...</td>\n",
       "      <td>...</td>\n",
       "      <td>...</td>\n",
       "      <td>...</td>\n",
       "      <td>...</td>\n",
       "    </tr>\n",
       "    <tr>\n",
       "      <th>299995</th>\n",
       "      <td>299995</td>\n",
       "      <td>Adidas</td>\n",
       "      <td>Leather</td>\n",
       "      <td>Small</td>\n",
       "      <td>9.0</td>\n",
       "      <td>No</td>\n",
       "      <td>No</td>\n",
       "      <td>Tote</td>\n",
       "      <td>Blue</td>\n",
       "      <td>12.730812</td>\n",
       "      <td>129.99749</td>\n",
       "    </tr>\n",
       "    <tr>\n",
       "      <th>299996</th>\n",
       "      <td>299996</td>\n",
       "      <td>Jansport</td>\n",
       "      <td>Leather</td>\n",
       "      <td>Large</td>\n",
       "      <td>6.0</td>\n",
       "      <td>No</td>\n",
       "      <td>Yes</td>\n",
       "      <td>Tote</td>\n",
       "      <td>Blue</td>\n",
       "      <td>26.633182</td>\n",
       "      <td>19.85819</td>\n",
       "    </tr>\n",
       "    <tr>\n",
       "      <th>299997</th>\n",
       "      <td>299997</td>\n",
       "      <td>Puma</td>\n",
       "      <td>Canvas</td>\n",
       "      <td>Large</td>\n",
       "      <td>9.0</td>\n",
       "      <td>Yes</td>\n",
       "      <td>Yes</td>\n",
       "      <td>Backpack</td>\n",
       "      <td>Pink</td>\n",
       "      <td>11.898250</td>\n",
       "      <td>111.41364</td>\n",
       "    </tr>\n",
       "    <tr>\n",
       "      <th>299998</th>\n",
       "      <td>299998</td>\n",
       "      <td>Adidas</td>\n",
       "      <td>Nylon</td>\n",
       "      <td>Small</td>\n",
       "      <td>1.0</td>\n",
       "      <td>No</td>\n",
       "      <td>Yes</td>\n",
       "      <td>Tote</td>\n",
       "      <td>Pink</td>\n",
       "      <td>6.175738</td>\n",
       "      <td>115.89080</td>\n",
       "    </tr>\n",
       "    <tr>\n",
       "      <th>299999</th>\n",
       "      <td>299999</td>\n",
       "      <td>Under Armour</td>\n",
       "      <td>Canvas</td>\n",
       "      <td>Small</td>\n",
       "      <td>2.0</td>\n",
       "      <td>No</td>\n",
       "      <td>Yes</td>\n",
       "      <td>Backpack</td>\n",
       "      <td>Black</td>\n",
       "      <td>18.568865</td>\n",
       "      <td>26.72762</td>\n",
       "    </tr>\n",
       "  </tbody>\n",
       "</table>\n",
       "<p>300000 rows × 11 columns</p>\n",
       "</div>"
      ],
      "text/plain": [
       "            id         Brand Material    Size  Compartments  \\\n",
       "0            0      Jansport  Leather  Medium           7.0   \n",
       "1            1      Jansport   Canvas   Small          10.0   \n",
       "2            2  Under Armour  Leather   Small           2.0   \n",
       "3            3          Nike    Nylon   Small           8.0   \n",
       "4            4        Adidas   Canvas  Medium           1.0   \n",
       "...        ...           ...      ...     ...           ...   \n",
       "299995  299995        Adidas  Leather   Small           9.0   \n",
       "299996  299996      Jansport  Leather   Large           6.0   \n",
       "299997  299997          Puma   Canvas   Large           9.0   \n",
       "299998  299998        Adidas    Nylon   Small           1.0   \n",
       "299999  299999  Under Armour   Canvas   Small           2.0   \n",
       "\n",
       "       Laptop Compartment Waterproof      Style  Color  Weight Capacity (kg)  \\\n",
       "0                     Yes         No       Tote  Black             11.611723   \n",
       "1                     Yes        Yes  Messenger  Green             27.078537   \n",
       "2                     Yes         No  Messenger    Red             16.643760   \n",
       "3                     Yes         No  Messenger  Green             12.937220   \n",
       "4                     Yes        Yes  Messenger  Green             17.749338   \n",
       "...                   ...        ...        ...    ...                   ...   \n",
       "299995                 No         No       Tote   Blue             12.730812   \n",
       "299996                 No        Yes       Tote   Blue             26.633182   \n",
       "299997                Yes        Yes   Backpack   Pink             11.898250   \n",
       "299998                 No        Yes       Tote   Pink              6.175738   \n",
       "299999                 No        Yes   Backpack  Black             18.568865   \n",
       "\n",
       "            Price  \n",
       "0       112.15875  \n",
       "1        68.88056  \n",
       "2        39.17320  \n",
       "3        80.60793  \n",
       "4        86.02312  \n",
       "...           ...  \n",
       "299995  129.99749  \n",
       "299996   19.85819  \n",
       "299997  111.41364  \n",
       "299998  115.89080  \n",
       "299999   26.72762  \n",
       "\n",
       "[300000 rows x 11 columns]"
      ]
     },
     "execution_count": 2,
     "metadata": {},
     "output_type": "execute_result"
    }
   ],
   "source": [
    "Backpack_df = pd.read_csv('Data/train.csv')\n",
    "Backpack_df"
   ]
  },
  {
   "cell_type": "markdown",
   "id": "122a91c4-cdfb-45e1-8a37-9b5febbcf526",
   "metadata": {},
   "source": [
    "## Preparation of the data frame\n",
    "\n",
    "### get_dummies\n",
    "- Brand\n",
    "- Material\n",
    "- Style\n",
    "- Color\n",
    "\n",
    "### binaries \n",
    "- Laptop Compartment\n",
    "- Waterproof\n"
   ]
  },
  {
   "cell_type": "code",
   "execution_count": 3,
   "id": "cec3f948-e2c6-4f71-a003-bced6cdd8ca8",
   "metadata": {},
   "outputs": [],
   "source": [
    "    def tamaño(value):\n",
    "        if value in ['Large']:\n",
    "            return 3\n",
    "        elif value in ['Medium']:\n",
    "            return 2\n",
    "        elif value in ['Small']:\n",
    "            return 1\n",
    "        else:\n",
    "            return 0"
   ]
  },
  {
   "cell_type": "code",
   "execution_count": 4,
   "id": "5e138215-7598-4a28-abed-9bc820aeaf75",
   "metadata": {},
   "outputs": [],
   "source": [
    "Backpack_df['Size'] = Backpack_df['Size'].apply(tamaño)"
   ]
  },
  {
   "cell_type": "code",
   "execution_count": 5,
   "id": "2cfdc8f1-caec-4f77-bbf8-2989803a25cf",
   "metadata": {},
   "outputs": [
    {
     "name": "stderr",
     "output_type": "stream",
     "text": [
      "/var/folders/_2/nh5rkkms0rbdwypbjgwb50xh0000gn/T/ipykernel_66396/105831996.py:2: FutureWarning: Downcasting behavior in `replace` is deprecated and will be removed in a future version. To retain the old behavior, explicitly call `result.infer_objects(copy=False)`. To opt-in to the future behavior, set `pd.set_option('future.no_silent_downcasting', True)`\n",
      "  Backpack_df['Laptop Compartment'] = Backpack_df['Laptop Compartment'].replace(\n"
     ]
    }
   ],
   "source": [
    "# 'Laptop Compartment'  yes = 1 No = 0 Nan = 0.5 'Laptop Compartment'\n",
    "Backpack_df['Laptop Compartment'] = Backpack_df['Laptop Compartment'].replace(\n",
    "    to_replace={'Yes': 1, 'No': 0}).fillna(0.5)"
   ]
  },
  {
   "cell_type": "code",
   "execution_count": 6,
   "id": "b9e77adf-27ad-4f08-ab65-420f69081650",
   "metadata": {},
   "outputs": [
    {
     "name": "stderr",
     "output_type": "stream",
     "text": [
      "/var/folders/_2/nh5rkkms0rbdwypbjgwb50xh0000gn/T/ipykernel_66396/1241050198.py:2: FutureWarning: Downcasting behavior in `replace` is deprecated and will be removed in a future version. To retain the old behavior, explicitly call `result.infer_objects(copy=False)`. To opt-in to the future behavior, set `pd.set_option('future.no_silent_downcasting', True)`\n",
      "  Backpack_df['Waterproof'] = Backpack_df['Waterproof'].replace(\n"
     ]
    }
   ],
   "source": [
    "# 'Waterproof' yes = 1 No = 0 Nan = 0.5 \n",
    "Backpack_df['Waterproof'] = Backpack_df['Waterproof'].replace(\n",
    "    to_replace={'Yes': 1, 'No': 0}).fillna(0.5)"
   ]
  },
  {
   "cell_type": "code",
   "execution_count": 7,
   "id": "caebfd53-cbdb-4581-8862-6c28a1deb0ec",
   "metadata": {},
   "outputs": [],
   "source": [
    "# 'Weight Capacity (kg)' NaN = average ()\n",
    "Backpack_df['Weight Capacity (kg)'] = Backpack_df['Weight Capacity (kg)'].fillna(\n",
    "    Backpack_df['Weight Capacity (kg)'].mean())"
   ]
  },
  {
   "cell_type": "code",
   "execution_count": 8,
   "id": "1d610abc-0401-4ab4-b5d4-c48a870ce2b1",
   "metadata": {},
   "outputs": [],
   "source": [
    "brand = pd.get_dummies(data = Backpack_df['Brand'], \n",
    "                       columns = Backpack_df['Brand'].unique(),dtype=int)"
   ]
  },
  {
   "cell_type": "code",
   "execution_count": 9,
   "id": "41f1c930-e0e6-441b-8006-f660759ea888",
   "metadata": {},
   "outputs": [],
   "source": [
    "material = pd.get_dummies(data = Backpack_df['Material'], \n",
    "                          columns = Backpack_df['Material'].unique(),dtype=int)"
   ]
  },
  {
   "cell_type": "code",
   "execution_count": 10,
   "id": "d00c7431-bf63-4a7a-8661-29f539ab951d",
   "metadata": {},
   "outputs": [],
   "source": [
    "style = pd.get_dummies(data = Backpack_df['Style'], \n",
    "                       columns = Backpack_df['Style'].unique(),dtype=int)"
   ]
  },
  {
   "cell_type": "code",
   "execution_count": 11,
   "id": "63381371-bc7d-4f6d-9b72-0d8b9245f841",
   "metadata": {},
   "outputs": [],
   "source": [
    "color = pd.get_dummies(data = Backpack_df['Color'], \n",
    "                       columns = Backpack_df['Color'].unique(),dtype=int)"
   ]
  },
  {
   "cell_type": "code",
   "execution_count": 12,
   "id": "5f2cc114-1e9d-475c-9e92-ebd177cf9796",
   "metadata": {},
   "outputs": [],
   "source": [
    "BP_dummies = pd.concat ( [Backpack_df, brand, material, style,color], axis =1)"
   ]
  },
  {
   "cell_type": "code",
   "execution_count": 13,
   "id": "7149b691-db32-4072-830e-ac9b297edcb5",
   "metadata": {},
   "outputs": [],
   "source": [
    "BP_dummies = BP_dummies.drop(columns=['Brand','Material','Style','Color'])"
   ]
  },
  {
   "cell_type": "code",
   "execution_count": 14,
   "id": "993ad27b-f37c-437c-a187-39406756efa7",
   "metadata": {},
   "outputs": [],
   "source": [
    "BP_dummies['Weight Capacity (kg)'] = BP_dummies['Weight Capacity (kg)'].fillna(BP_dummies['Weight Capacity (kg)'].mean())"
   ]
  },
  {
   "cell_type": "code",
   "execution_count": 15,
   "id": "f77ba245-9936-4310-9251-ed13595d65de",
   "metadata": {},
   "outputs": [],
   "source": [
    "BP_dummies['Laptop Compartment'] = BP_dummies['Laptop Compartment'].fillna(0)"
   ]
  },
  {
   "cell_type": "code",
   "execution_count": 16,
   "id": "f97875a4-a89c-4e30-9f50-9b840142ff38",
   "metadata": {},
   "outputs": [],
   "source": [
    "BP_dummies['Waterproof'] = BP_dummies['Waterproof'].fillna(0)"
   ]
  },
  {
   "cell_type": "code",
   "execution_count": 17,
   "id": "e7366d58-ce2b-4cdb-a656-e83527b97eee",
   "metadata": {},
   "outputs": [
    {
     "name": "stdout",
     "output_type": "stream",
     "text": [
      "<class 'pandas.core.frame.DataFrame'>\n",
      "RangeIndex: 300000 entries, 0 to 299999\n",
      "Data columns (total 25 columns):\n",
      " #   Column                Non-Null Count   Dtype  \n",
      "---  ------                --------------   -----  \n",
      " 0   id                    300000 non-null  int64  \n",
      " 1   Size                  300000 non-null  int64  \n",
      " 2   Compartments          300000 non-null  float64\n",
      " 3   Laptop Compartment    300000 non-null  float64\n",
      " 4   Waterproof            300000 non-null  float64\n",
      " 5   Weight Capacity (kg)  300000 non-null  float64\n",
      " 6   Price                 300000 non-null  float64\n",
      " 7   Adidas                300000 non-null  int64  \n",
      " 8   Jansport              300000 non-null  int64  \n",
      " 9   Nike                  300000 non-null  int64  \n",
      " 10  Puma                  300000 non-null  int64  \n",
      " 11  Under Armour          300000 non-null  int64  \n",
      " 12  Canvas                300000 non-null  int64  \n",
      " 13  Leather               300000 non-null  int64  \n",
      " 14  Nylon                 300000 non-null  int64  \n",
      " 15  Polyester             300000 non-null  int64  \n",
      " 16  Backpack              300000 non-null  int64  \n",
      " 17  Messenger             300000 non-null  int64  \n",
      " 18  Tote                  300000 non-null  int64  \n",
      " 19  Black                 300000 non-null  int64  \n",
      " 20  Blue                  300000 non-null  int64  \n",
      " 21  Gray                  300000 non-null  int64  \n",
      " 22  Green                 300000 non-null  int64  \n",
      " 23  Pink                  300000 non-null  int64  \n",
      " 24  Red                   300000 non-null  int64  \n",
      "dtypes: float64(5), int64(20)\n",
      "memory usage: 57.2 MB\n"
     ]
    }
   ],
   "source": [
    "BP_dummies.info()"
   ]
  },
  {
   "cell_type": "code",
   "execution_count": 18,
   "id": "375ed980-c961-4eb8-9432-7ff85ee447f7",
   "metadata": {},
   "outputs": [],
   "source": [
    "BP_dummies.to_csv('Data/BP_dummies.train.1.csv', index=False)"
   ]
  },
  {
   "cell_type": "code",
   "execution_count": null,
   "id": "cb0719b1-ad3c-4362-ab02-b1b54284126c",
   "metadata": {},
   "outputs": [],
   "source": []
  }
 ],
 "metadata": {
  "kernelspec": {
   "display_name": "Python 3 (ipykernel)",
   "language": "python",
   "name": "python3"
  },
  "language_info": {
   "codemirror_mode": {
    "name": "ipython",
    "version": 3
   },
   "file_extension": ".py",
   "mimetype": "text/x-python",
   "name": "python",
   "nbconvert_exporter": "python",
   "pygments_lexer": "ipython3",
   "version": "3.13.1"
  }
 },
 "nbformat": 4,
 "nbformat_minor": 5
}
