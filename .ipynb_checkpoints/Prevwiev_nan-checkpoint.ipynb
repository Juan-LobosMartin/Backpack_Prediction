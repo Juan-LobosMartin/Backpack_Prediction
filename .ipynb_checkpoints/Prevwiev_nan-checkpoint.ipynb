{
 "cells": [
  {
   "cell_type": "code",
   "execution_count": 1,
   "id": "66ff9a47-60ec-48c6-a1c4-d7d937b4e57b",
   "metadata": {},
   "outputs": [],
   "source": [
    "# Modules\n",
    "import pandas as pd\n",
    "import numpy as np\n",
    "import seaborn as sns\n",
    "import matplotlib.pyplot as plt\n",
    "%matplotlib inline"
   ]
  },
  {
   "cell_type": "code",
   "execution_count": 2,
   "id": "f241c287-ff71-463a-9341-d1cd163f0e22",
   "metadata": {},
   "outputs": [
    {
     "data": {
      "text/html": [
       "<div>\n",
       "<style scoped>\n",
       "    .dataframe tbody tr th:only-of-type {\n",
       "        vertical-align: middle;\n",
       "    }\n",
       "\n",
       "    .dataframe tbody tr th {\n",
       "        vertical-align: top;\n",
       "    }\n",
       "\n",
       "    .dataframe thead th {\n",
       "        text-align: right;\n",
       "    }\n",
       "</style>\n",
       "<table border=\"1\" class=\"dataframe\">\n",
       "  <thead>\n",
       "    <tr style=\"text-align: right;\">\n",
       "      <th></th>\n",
       "      <th>id</th>\n",
       "      <th>Brand</th>\n",
       "      <th>Material</th>\n",
       "      <th>Size</th>\n",
       "      <th>Compartments</th>\n",
       "      <th>Laptop Compartment</th>\n",
       "      <th>Waterproof</th>\n",
       "      <th>Style</th>\n",
       "      <th>Color</th>\n",
       "      <th>Weight Capacity (kg)</th>\n",
       "      <th>Price</th>\n",
       "    </tr>\n",
       "  </thead>\n",
       "  <tbody>\n",
       "    <tr>\n",
       "      <th>0</th>\n",
       "      <td>0</td>\n",
       "      <td>Jansport</td>\n",
       "      <td>Leather</td>\n",
       "      <td>Medium</td>\n",
       "      <td>7.0</td>\n",
       "      <td>Yes</td>\n",
       "      <td>No</td>\n",
       "      <td>Tote</td>\n",
       "      <td>Black</td>\n",
       "      <td>11.611723</td>\n",
       "      <td>112.15875</td>\n",
       "    </tr>\n",
       "    <tr>\n",
       "      <th>1</th>\n",
       "      <td>1</td>\n",
       "      <td>Jansport</td>\n",
       "      <td>Canvas</td>\n",
       "      <td>Small</td>\n",
       "      <td>10.0</td>\n",
       "      <td>Yes</td>\n",
       "      <td>Yes</td>\n",
       "      <td>Messenger</td>\n",
       "      <td>Green</td>\n",
       "      <td>27.078537</td>\n",
       "      <td>68.88056</td>\n",
       "    </tr>\n",
       "    <tr>\n",
       "      <th>2</th>\n",
       "      <td>2</td>\n",
       "      <td>Under Armour</td>\n",
       "      <td>Leather</td>\n",
       "      <td>Small</td>\n",
       "      <td>2.0</td>\n",
       "      <td>Yes</td>\n",
       "      <td>No</td>\n",
       "      <td>Messenger</td>\n",
       "      <td>Red</td>\n",
       "      <td>16.643760</td>\n",
       "      <td>39.17320</td>\n",
       "    </tr>\n",
       "  </tbody>\n",
       "</table>\n",
       "</div>"
      ],
      "text/plain": [
       "   id         Brand Material    Size  Compartments Laptop Compartment  \\\n",
       "0   0      Jansport  Leather  Medium           7.0                Yes   \n",
       "1   1      Jansport   Canvas   Small          10.0                Yes   \n",
       "2   2  Under Armour  Leather   Small           2.0                Yes   \n",
       "\n",
       "  Waterproof      Style  Color  Weight Capacity (kg)      Price  \n",
       "0         No       Tote  Black             11.611723  112.15875  \n",
       "1        Yes  Messenger  Green             27.078537   68.88056  \n",
       "2         No  Messenger    Red             16.643760   39.17320  "
      ]
     },
     "execution_count": 2,
     "metadata": {},
     "output_type": "execute_result"
    }
   ],
   "source": [
    "Backpack_df = pd.read_csv('Data/train.csv')\n",
    "Backpack_df.head(3)"
   ]
  },
  {
   "cell_type": "code",
   "execution_count": 3,
   "id": "3786e477-7cd9-4f82-b51d-3306717691f2",
   "metadata": {},
   "outputs": [
    {
     "name": "stdout",
     "output_type": "stream",
     "text": [
      "<class 'pandas.core.frame.DataFrame'>\n",
      "RangeIndex: 300000 entries, 0 to 299999\n",
      "Data columns (total 11 columns):\n",
      " #   Column                Non-Null Count   Dtype  \n",
      "---  ------                --------------   -----  \n",
      " 0   id                    300000 non-null  int64  \n",
      " 1   Brand                 290295 non-null  object \n",
      " 2   Material              291653 non-null  object \n",
      " 3   Size                  293405 non-null  object \n",
      " 4   Compartments          300000 non-null  float64\n",
      " 5   Laptop Compartment    292556 non-null  object \n",
      " 6   Waterproof            292950 non-null  object \n",
      " 7   Style                 292030 non-null  object \n",
      " 8   Color                 290050 non-null  object \n",
      " 9   Weight Capacity (kg)  299862 non-null  float64\n",
      " 10  Price                 300000 non-null  float64\n",
      "dtypes: float64(3), int64(1), object(7)\n",
      "memory usage: 25.2+ MB\n"
     ]
    }
   ],
   "source": [
    "Backpack_df.info()"
   ]
  },
  {
   "cell_type": "code",
   "execution_count": 4,
   "id": "e6fb3881-b159-45dc-8762-e24007f55b49",
   "metadata": {},
   "outputs": [
    {
     "data": {
      "text/html": [
       "<div>\n",
       "<style scoped>\n",
       "    .dataframe tbody tr th:only-of-type {\n",
       "        vertical-align: middle;\n",
       "    }\n",
       "\n",
       "    .dataframe tbody tr th {\n",
       "        vertical-align: top;\n",
       "    }\n",
       "\n",
       "    .dataframe thead th {\n",
       "        text-align: right;\n",
       "    }\n",
       "</style>\n",
       "<table border=\"1\" class=\"dataframe\">\n",
       "  <thead>\n",
       "    <tr style=\"text-align: right;\">\n",
       "      <th></th>\n",
       "      <th>id</th>\n",
       "      <th>Compartments</th>\n",
       "      <th>Weight Capacity (kg)</th>\n",
       "      <th>Price</th>\n",
       "    </tr>\n",
       "  </thead>\n",
       "  <tbody>\n",
       "    <tr>\n",
       "      <th>count</th>\n",
       "      <td>300000.000000</td>\n",
       "      <td>300000.000000</td>\n",
       "      <td>299862.000000</td>\n",
       "      <td>300000.000000</td>\n",
       "    </tr>\n",
       "    <tr>\n",
       "      <th>mean</th>\n",
       "      <td>149999.500000</td>\n",
       "      <td>5.443590</td>\n",
       "      <td>18.029994</td>\n",
       "      <td>81.411107</td>\n",
       "    </tr>\n",
       "    <tr>\n",
       "      <th>std</th>\n",
       "      <td>86602.684716</td>\n",
       "      <td>2.890766</td>\n",
       "      <td>6.966914</td>\n",
       "      <td>39.039340</td>\n",
       "    </tr>\n",
       "    <tr>\n",
       "      <th>min</th>\n",
       "      <td>0.000000</td>\n",
       "      <td>1.000000</td>\n",
       "      <td>5.000000</td>\n",
       "      <td>15.000000</td>\n",
       "    </tr>\n",
       "    <tr>\n",
       "      <th>25%</th>\n",
       "      <td>74999.750000</td>\n",
       "      <td>3.000000</td>\n",
       "      <td>12.097867</td>\n",
       "      <td>47.384620</td>\n",
       "    </tr>\n",
       "    <tr>\n",
       "      <th>50%</th>\n",
       "      <td>149999.500000</td>\n",
       "      <td>5.000000</td>\n",
       "      <td>18.068614</td>\n",
       "      <td>80.956120</td>\n",
       "    </tr>\n",
       "    <tr>\n",
       "      <th>75%</th>\n",
       "      <td>224999.250000</td>\n",
       "      <td>8.000000</td>\n",
       "      <td>24.002375</td>\n",
       "      <td>115.018160</td>\n",
       "    </tr>\n",
       "    <tr>\n",
       "      <th>max</th>\n",
       "      <td>299999.000000</td>\n",
       "      <td>10.000000</td>\n",
       "      <td>30.000000</td>\n",
       "      <td>150.000000</td>\n",
       "    </tr>\n",
       "  </tbody>\n",
       "</table>\n",
       "</div>"
      ],
      "text/plain": [
       "                  id   Compartments  Weight Capacity (kg)          Price\n",
       "count  300000.000000  300000.000000         299862.000000  300000.000000\n",
       "mean   149999.500000       5.443590             18.029994      81.411107\n",
       "std     86602.684716       2.890766              6.966914      39.039340\n",
       "min         0.000000       1.000000              5.000000      15.000000\n",
       "25%     74999.750000       3.000000             12.097867      47.384620\n",
       "50%    149999.500000       5.000000             18.068614      80.956120\n",
       "75%    224999.250000       8.000000             24.002375     115.018160\n",
       "max    299999.000000      10.000000             30.000000     150.000000"
      ]
     },
     "execution_count": 4,
     "metadata": {},
     "output_type": "execute_result"
    }
   ],
   "source": [
    "Backpack_df.describe()"
   ]
  },
  {
   "cell_type": "code",
   "execution_count": 5,
   "id": "333fc996-ffdc-4dd2-991c-28cc831a8242",
   "metadata": {},
   "outputs": [
    {
     "data": {
      "text/plain": [
       "Brand\n",
       "Adidas          60077\n",
       "Under Armour    59992\n",
       "Nike            57336\n",
       "Puma            56814\n",
       "Jansport        56076\n",
       "Name: count, dtype: int64"
      ]
     },
     "execution_count": 5,
     "metadata": {},
     "output_type": "execute_result"
    }
   ],
   "source": [
    "Backpack_df['Brand'].value_counts()"
   ]
  },
  {
   "cell_type": "code",
   "execution_count": 7,
   "id": "6ab7b664-215b-4f8a-b32a-39c44ca9092d",
   "metadata": {},
   "outputs": [
    {
     "data": {
      "text/plain": [
       "array(['Jansport', 'Under Armour', 'Nike', 'Adidas', 'Puma', nan],\n",
       "      dtype=object)"
      ]
     },
     "execution_count": 7,
     "metadata": {},
     "output_type": "execute_result"
    }
   ],
   "source": [
    "Backpack_df['Brand'].unique()"
   ]
  },
  {
   "cell_type": "code",
   "execution_count": 11,
   "id": "f186238b-2f6c-41e5-a4f2-09b3bf6d4d83",
   "metadata": {},
   "outputs": [],
   "source": [
    "Backpack_df['Brand'].replace(to_replace=np.nan, value=0,inplace=True)"
   ]
  },
  {
   "cell_type": "code",
   "execution_count": 13,
   "id": "b1a4a7fd-acea-4a8f-bb61-3a0eeea8e840",
   "metadata": {},
   "outputs": [
    {
     "data": {
      "text/html": [
       "<div>\n",
       "<style scoped>\n",
       "    .dataframe tbody tr th:only-of-type {\n",
       "        vertical-align: middle;\n",
       "    }\n",
       "\n",
       "    .dataframe tbody tr th {\n",
       "        vertical-align: top;\n",
       "    }\n",
       "\n",
       "    .dataframe thead th {\n",
       "        text-align: right;\n",
       "    }\n",
       "</style>\n",
       "<table border=\"1\" class=\"dataframe\">\n",
       "  <thead>\n",
       "    <tr style=\"text-align: right;\">\n",
       "      <th></th>\n",
       "      <th>id</th>\n",
       "      <th>Brand</th>\n",
       "      <th>Material</th>\n",
       "      <th>Size</th>\n",
       "      <th>Compartments</th>\n",
       "      <th>Laptop Compartment</th>\n",
       "      <th>Waterproof</th>\n",
       "      <th>Style</th>\n",
       "      <th>Color</th>\n",
       "      <th>Weight Capacity (kg)</th>\n",
       "      <th>Price</th>\n",
       "    </tr>\n",
       "  </thead>\n",
       "  <tbody>\n",
       "    <tr>\n",
       "      <th>30</th>\n",
       "      <td>30</td>\n",
       "      <td>0</td>\n",
       "      <td>Leather</td>\n",
       "      <td>Large</td>\n",
       "      <td>3.0</td>\n",
       "      <td>No</td>\n",
       "      <td>Yes</td>\n",
       "      <td>Tote</td>\n",
       "      <td>Blue</td>\n",
       "      <td>21.304434</td>\n",
       "      <td>138.32699</td>\n",
       "    </tr>\n",
       "    <tr>\n",
       "      <th>48</th>\n",
       "      <td>48</td>\n",
       "      <td>0</td>\n",
       "      <td>Canvas</td>\n",
       "      <td>Medium</td>\n",
       "      <td>2.0</td>\n",
       "      <td>No</td>\n",
       "      <td>No</td>\n",
       "      <td>Tote</td>\n",
       "      <td>NaN</td>\n",
       "      <td>5.000000</td>\n",
       "      <td>42.28337</td>\n",
       "    </tr>\n",
       "    <tr>\n",
       "      <th>90</th>\n",
       "      <td>90</td>\n",
       "      <td>0</td>\n",
       "      <td>Leather</td>\n",
       "      <td>Medium</td>\n",
       "      <td>8.0</td>\n",
       "      <td>Yes</td>\n",
       "      <td>No</td>\n",
       "      <td>Tote</td>\n",
       "      <td>Blue</td>\n",
       "      <td>16.594824</td>\n",
       "      <td>142.11363</td>\n",
       "    </tr>\n",
       "    <tr>\n",
       "      <th>125</th>\n",
       "      <td>125</td>\n",
       "      <td>0</td>\n",
       "      <td>Polyester</td>\n",
       "      <td>Small</td>\n",
       "      <td>8.0</td>\n",
       "      <td>No</td>\n",
       "      <td>No</td>\n",
       "      <td>Backpack</td>\n",
       "      <td>Red</td>\n",
       "      <td>7.922756</td>\n",
       "      <td>64.32242</td>\n",
       "    </tr>\n",
       "    <tr>\n",
       "      <th>137</th>\n",
       "      <td>137</td>\n",
       "      <td>0</td>\n",
       "      <td>Nylon</td>\n",
       "      <td>Medium</td>\n",
       "      <td>3.0</td>\n",
       "      <td>Yes</td>\n",
       "      <td>No</td>\n",
       "      <td>Backpack</td>\n",
       "      <td>Green</td>\n",
       "      <td>13.051134</td>\n",
       "      <td>34.86676</td>\n",
       "    </tr>\n",
       "    <tr>\n",
       "      <th>...</th>\n",
       "      <td>...</td>\n",
       "      <td>...</td>\n",
       "      <td>...</td>\n",
       "      <td>...</td>\n",
       "      <td>...</td>\n",
       "      <td>...</td>\n",
       "      <td>...</td>\n",
       "      <td>...</td>\n",
       "      <td>...</td>\n",
       "      <td>...</td>\n",
       "      <td>...</td>\n",
       "    </tr>\n",
       "    <tr>\n",
       "      <th>299921</th>\n",
       "      <td>299921</td>\n",
       "      <td>0</td>\n",
       "      <td>NaN</td>\n",
       "      <td>Small</td>\n",
       "      <td>7.0</td>\n",
       "      <td>No</td>\n",
       "      <td>Yes</td>\n",
       "      <td>Tote</td>\n",
       "      <td>NaN</td>\n",
       "      <td>20.419934</td>\n",
       "      <td>27.58667</td>\n",
       "    </tr>\n",
       "    <tr>\n",
       "      <th>299937</th>\n",
       "      <td>299937</td>\n",
       "      <td>0</td>\n",
       "      <td>Polyester</td>\n",
       "      <td>Large</td>\n",
       "      <td>8.0</td>\n",
       "      <td>No</td>\n",
       "      <td>Yes</td>\n",
       "      <td>Messenger</td>\n",
       "      <td>Gray</td>\n",
       "      <td>19.272669</td>\n",
       "      <td>74.70298</td>\n",
       "    </tr>\n",
       "    <tr>\n",
       "      <th>299957</th>\n",
       "      <td>299957</td>\n",
       "      <td>0</td>\n",
       "      <td>Polyester</td>\n",
       "      <td>Large</td>\n",
       "      <td>9.0</td>\n",
       "      <td>No</td>\n",
       "      <td>Yes</td>\n",
       "      <td>Tote</td>\n",
       "      <td>Black</td>\n",
       "      <td>13.619044</td>\n",
       "      <td>19.25284</td>\n",
       "    </tr>\n",
       "    <tr>\n",
       "      <th>299978</th>\n",
       "      <td>299978</td>\n",
       "      <td>0</td>\n",
       "      <td>Canvas</td>\n",
       "      <td>Large</td>\n",
       "      <td>6.0</td>\n",
       "      <td>Yes</td>\n",
       "      <td>No</td>\n",
       "      <td>Tote</td>\n",
       "      <td>Gray</td>\n",
       "      <td>5.000000</td>\n",
       "      <td>50.78781</td>\n",
       "    </tr>\n",
       "    <tr>\n",
       "      <th>299991</th>\n",
       "      <td>299991</td>\n",
       "      <td>0</td>\n",
       "      <td>Polyester</td>\n",
       "      <td>Large</td>\n",
       "      <td>7.0</td>\n",
       "      <td>No</td>\n",
       "      <td>No</td>\n",
       "      <td>Messenger</td>\n",
       "      <td>Red</td>\n",
       "      <td>27.897502</td>\n",
       "      <td>138.70658</td>\n",
       "    </tr>\n",
       "  </tbody>\n",
       "</table>\n",
       "<p>9705 rows × 11 columns</p>\n",
       "</div>"
      ],
      "text/plain": [
       "            id Brand   Material    Size  Compartments Laptop Compartment  \\\n",
       "30          30     0    Leather   Large           3.0                 No   \n",
       "48          48     0     Canvas  Medium           2.0                 No   \n",
       "90          90     0    Leather  Medium           8.0                Yes   \n",
       "125        125     0  Polyester   Small           8.0                 No   \n",
       "137        137     0      Nylon  Medium           3.0                Yes   \n",
       "...        ...   ...        ...     ...           ...                ...   \n",
       "299921  299921     0        NaN   Small           7.0                 No   \n",
       "299937  299937     0  Polyester   Large           8.0                 No   \n",
       "299957  299957     0  Polyester   Large           9.0                 No   \n",
       "299978  299978     0     Canvas   Large           6.0                Yes   \n",
       "299991  299991     0  Polyester   Large           7.0                 No   \n",
       "\n",
       "       Waterproof      Style  Color  Weight Capacity (kg)      Price  \n",
       "30            Yes       Tote   Blue             21.304434  138.32699  \n",
       "48             No       Tote    NaN              5.000000   42.28337  \n",
       "90             No       Tote   Blue             16.594824  142.11363  \n",
       "125            No   Backpack    Red              7.922756   64.32242  \n",
       "137            No   Backpack  Green             13.051134   34.86676  \n",
       "...           ...        ...    ...                   ...        ...  \n",
       "299921        Yes       Tote    NaN             20.419934   27.58667  \n",
       "299937        Yes  Messenger   Gray             19.272669   74.70298  \n",
       "299957        Yes       Tote  Black             13.619044   19.25284  \n",
       "299978         No       Tote   Gray              5.000000   50.78781  \n",
       "299991         No  Messenger    Red             27.897502  138.70658  \n",
       "\n",
       "[9705 rows x 11 columns]"
      ]
     },
     "execution_count": 13,
     "metadata": {},
     "output_type": "execute_result"
    }
   ],
   "source": [
    "Backpack_df[Backpack_df['Brand']==0] \n",
    "# 9705 rows"
   ]
  },
  {
   "cell_type": "code",
   "execution_count": 14,
   "id": "fb912f97-549f-4d7f-bd2d-c3c1d6e7d83d",
   "metadata": {},
   "outputs": [
    {
     "data": {
      "text/plain": [
       "array(['Leather', 'Canvas', 'Nylon', nan, 'Polyester'], dtype=object)"
      ]
     },
     "execution_count": 14,
     "metadata": {},
     "output_type": "execute_result"
    }
   ],
   "source": [
    "Backpack_df['Material'].unique()"
   ]
  },
  {
   "cell_type": "code",
   "execution_count": 15,
   "id": "a63f3caf-41d6-4b25-bf25-22414d58f2c6",
   "metadata": {},
   "outputs": [
    {
     "name": "stderr",
     "output_type": "stream",
     "text": [
      "/var/folders/_2/nh5rkkms0rbdwypbjgwb50xh0000gn/T/ipykernel_34351/2237364322.py:1: FutureWarning: A value is trying to be set on a copy of a DataFrame or Series through chained assignment using an inplace method.\n",
      "The behavior will change in pandas 3.0. This inplace method will never work because the intermediate object on which we are setting values always behaves as a copy.\n",
      "\n",
      "For example, when doing 'df[col].method(value, inplace=True)', try using 'df.method({col: value}, inplace=True)' or df[col] = df[col].method(value) instead, to perform the operation inplace on the original object.\n",
      "\n",
      "\n",
      "  Backpack_df['Material'].replace(to_replace=np.nan, value=0,inplace=True)\n"
     ]
    }
   ],
   "source": [
    "Backpack_df['Material'].replace(to_replace=np.nan, value=0,inplace=True)"
   ]
  },
  {
   "cell_type": "code",
   "execution_count": 17,
   "id": "f59a706d-fd14-4d43-b989-b4d63ce494b3",
   "metadata": {},
   "outputs": [
    {
     "data": {
      "text/plain": [
       "Material\n",
       "Polyester    79630\n",
       "Leather      73416\n",
       "Nylon        70603\n",
       "Canvas       68004\n",
       "0             8347\n",
       "Name: count, dtype: int64"
      ]
     },
     "execution_count": 17,
     "metadata": {},
     "output_type": "execute_result"
    }
   ],
   "source": [
    "Backpack_df['Material'].value_counts()\n",
    "# no material 8347"
   ]
  },
  {
   "cell_type": "code",
   "execution_count": 18,
   "id": "fa8cc7a8-c863-459d-90bb-5a00d2eccdad",
   "metadata": {},
   "outputs": [
    {
     "data": {
      "text/plain": [
       "Size\n",
       "Medium    101906\n",
       "Large      98643\n",
       "Small      92856\n",
       "Name: count, dtype: int64"
      ]
     },
     "execution_count": 18,
     "metadata": {},
     "output_type": "execute_result"
    }
   ],
   "source": [
    "Backpack_df['Size'].value_counts()"
   ]
  },
  {
   "cell_type": "code",
   "execution_count": 19,
   "id": "666363f2-8849-47d0-a2e6-532ff1618e5d",
   "metadata": {},
   "outputs": [],
   "source": [
    "Backpack_df['Size'] = Backpack_df['Size'].replace(to_replace=np.nan, value=0)"
   ]
  },
  {
   "cell_type": "code",
   "execution_count": 21,
   "id": "df189879-6a53-472b-95f4-323af7b7b9cc",
   "metadata": {},
   "outputs": [
    {
     "data": {
      "text/plain": [
       "Size\n",
       "Medium    101906\n",
       "Large      98643\n",
       "Small      92856\n",
       "0           6595\n",
       "Name: count, dtype: int64"
      ]
     },
     "execution_count": 21,
     "metadata": {},
     "output_type": "execute_result"
    }
   ],
   "source": [
    "Backpack_df['Size'].value_counts()\n",
    "# without declared size 6595"
   ]
  },
  {
   "cell_type": "code",
   "execution_count": 22,
   "id": "e17c9214-a827-488f-84ea-7bb375e46ba4",
   "metadata": {},
   "outputs": [
    {
     "data": {
      "text/plain": [
       "Compartments\n",
       "1.0     31568\n",
       "4.0     31498\n",
       "2.0     30595\n",
       "3.0     30293\n",
       "7.0     30158\n",
       "9.0     29965\n",
       "5.0     29959\n",
       "10.0    29815\n",
       "8.0     28909\n",
       "6.0     27240\n",
       "Name: count, dtype: int64"
      ]
     },
     "execution_count": 22,
     "metadata": {},
     "output_type": "execute_result"
    }
   ],
   "source": [
    "Backpack_df['Compartments'].value_counts()"
   ]
  },
  {
   "cell_type": "code",
   "execution_count": 23,
   "id": "53861daa-dbc6-4d7e-8293-5674d4ddaee7",
   "metadata": {},
   "outputs": [
    {
     "data": {
      "text/plain": [
       "count    300000.000000\n",
       "mean          5.443590\n",
       "std           2.890766\n",
       "min           1.000000\n",
       "25%           3.000000\n",
       "50%           5.000000\n",
       "75%           8.000000\n",
       "max          10.000000\n",
       "Name: Compartments, dtype: float64"
      ]
     },
     "execution_count": 23,
     "metadata": {},
     "output_type": "execute_result"
    }
   ],
   "source": [
    "Backpack_df['Compartments'].describe()"
   ]
  },
  {
   "cell_type": "code",
   "execution_count": 24,
   "id": "19986b6d-f374-4693-ab0f-3c011f157da4",
   "metadata": {},
   "outputs": [
    {
     "data": {
      "text/plain": [
       "Laptop Compartment\n",
       "Yes    148342\n",
       "No     144214\n",
       "Name: count, dtype: int64"
      ]
     },
     "execution_count": 24,
     "metadata": {},
     "output_type": "execute_result"
    }
   ],
   "source": [
    "Backpack_df['Laptop Compartment'].value_counts()"
   ]
  },
  {
   "cell_type": "code",
   "execution_count": 25,
   "id": "579397e6-f3ad-488b-a9eb-56c7f74a8aca",
   "metadata": {},
   "outputs": [],
   "source": [
    "Backpack_df['Laptop Compartment'] = Backpack_df['Laptop Compartment'].replace(to_replace=np.nan, value=0)"
   ]
  },
  {
   "cell_type": "code",
   "execution_count": 27,
   "id": "bee9f290-2a8a-49c9-bd8c-db03fb9d86cb",
   "metadata": {},
   "outputs": [
    {
     "data": {
      "text/plain": [
       "Laptop Compartment\n",
       "Yes    148342\n",
       "No     144214\n",
       "0        7444\n",
       "Name: count, dtype: int64"
      ]
     },
     "execution_count": 27,
     "metadata": {},
     "output_type": "execute_result"
    }
   ],
   "source": [
    "Backpack_df['Laptop Compartment'].value_counts()\n",
    "# number of backpacks without a description of the laptop compartment 7444"
   ]
  },
  {
   "cell_type": "code",
   "execution_count": 28,
   "id": "631f155d-1ab8-41a1-a57f-870c485dc9c3",
   "metadata": {},
   "outputs": [
    {
     "data": {
      "text/plain": [
       "Waterproof\n",
       "Yes    148077\n",
       "No     144873\n",
       "Name: count, dtype: int64"
      ]
     },
     "execution_count": 28,
     "metadata": {},
     "output_type": "execute_result"
    }
   ],
   "source": [
    "Backpack_df['Waterproof'].value_counts()"
   ]
  },
  {
   "cell_type": "code",
   "execution_count": 29,
   "id": "84d2c908-c922-4a59-8398-d021cb5e6bb1",
   "metadata": {},
   "outputs": [],
   "source": [
    "Backpack_df['Waterproof'] = Backpack_df['Waterproof'].replace(to_replace=np.nan, value=0)"
   ]
  },
  {
   "cell_type": "code",
   "execution_count": 31,
   "id": "26a3f659-362f-4598-be20-87cd6c388480",
   "metadata": {},
   "outputs": [
    {
     "data": {
      "text/plain": [
       "Waterproof\n",
       "Yes    148077\n",
       "No     144873\n",
       "0        7050\n",
       "Name: count, dtype: int64"
      ]
     },
     "execution_count": 31,
     "metadata": {},
     "output_type": "execute_result"
    }
   ],
   "source": [
    "Backpack_df['Waterproof'].value_counts()\n",
    "# number of items without descriptions of Waterproof 7050"
   ]
  },
  {
   "cell_type": "code",
   "execution_count": null,
   "id": "cff58418-3ded-428d-b1bf-722febc5c283",
   "metadata": {},
   "outputs": [],
   "source": []
  }
 ],
 "metadata": {
  "kernelspec": {
   "display_name": "Python 3 (ipykernel)",
   "language": "python",
   "name": "python3"
  },
  "language_info": {
   "codemirror_mode": {
    "name": "ipython",
    "version": 3
   },
   "file_extension": ".py",
   "mimetype": "text/x-python",
   "name": "python",
   "nbconvert_exporter": "python",
   "pygments_lexer": "ipython3",
   "version": "3.13.1"
  }
 },
 "nbformat": 4,
 "nbformat_minor": 5
}
