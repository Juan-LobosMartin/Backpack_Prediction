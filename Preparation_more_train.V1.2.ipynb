{
 "cells": [
  {
   "cell_type": "code",
   "execution_count": 1,
   "id": "c7c5a7ed-9c55-4be8-803e-6c1014ae1ec2",
   "metadata": {},
   "outputs": [],
   "source": [
    "# Modules\n",
    "import pandas as pd\n",
    "import numpy as np\n",
    "import seaborn as sns\n",
    "import matplotlib.pyplot as plt\n",
    "%matplotlib inline"
   ]
  },
  {
   "cell_type": "code",
   "execution_count": 3,
   "id": "7d4dfb01-fcc6-4f7b-ad46-b80936fb306e",
   "metadata": {},
   "outputs": [
    {
     "data": {
      "text/html": [
       "<div>\n",
       "<style scoped>\n",
       "    .dataframe tbody tr th:only-of-type {\n",
       "        vertical-align: middle;\n",
       "    }\n",
       "\n",
       "    .dataframe tbody tr th {\n",
       "        vertical-align: top;\n",
       "    }\n",
       "\n",
       "    .dataframe thead th {\n",
       "        text-align: right;\n",
       "    }\n",
       "</style>\n",
       "<table border=\"1\" class=\"dataframe\">\n",
       "  <thead>\n",
       "    <tr style=\"text-align: right;\">\n",
       "      <th></th>\n",
       "      <th>id</th>\n",
       "      <th>Brand</th>\n",
       "      <th>Material</th>\n",
       "      <th>Size</th>\n",
       "      <th>Compartments</th>\n",
       "      <th>Laptop Compartment</th>\n",
       "      <th>Waterproof</th>\n",
       "      <th>Style</th>\n",
       "      <th>Color</th>\n",
       "      <th>Weight Capacity (kg)</th>\n",
       "      <th>Price</th>\n",
       "    </tr>\n",
       "  </thead>\n",
       "  <tbody>\n",
       "    <tr>\n",
       "      <th>0</th>\n",
       "      <td>500000</td>\n",
       "      <td>Under Armour</td>\n",
       "      <td>Canvas</td>\n",
       "      <td>Small</td>\n",
       "      <td>10.0</td>\n",
       "      <td>Yes</td>\n",
       "      <td>Yes</td>\n",
       "      <td>Tote</td>\n",
       "      <td>Blue</td>\n",
       "      <td>23.882052</td>\n",
       "      <td>114.11068</td>\n",
       "    </tr>\n",
       "    <tr>\n",
       "      <th>1</th>\n",
       "      <td>500001</td>\n",
       "      <td>Puma</td>\n",
       "      <td>Polyester</td>\n",
       "      <td>Small</td>\n",
       "      <td>4.0</td>\n",
       "      <td>No</td>\n",
       "      <td>Yes</td>\n",
       "      <td>Backpack</td>\n",
       "      <td>Green</td>\n",
       "      <td>11.869095</td>\n",
       "      <td>129.74972</td>\n",
       "    </tr>\n",
       "    <tr>\n",
       "      <th>2</th>\n",
       "      <td>500002</td>\n",
       "      <td>Jansport</td>\n",
       "      <td>Polyester</td>\n",
       "      <td>Small</td>\n",
       "      <td>8.0</td>\n",
       "      <td>Yes</td>\n",
       "      <td>Yes</td>\n",
       "      <td>Tote</td>\n",
       "      <td>Red</td>\n",
       "      <td>8.092302</td>\n",
       "      <td>21.37370</td>\n",
       "    </tr>\n",
       "    <tr>\n",
       "      <th>3</th>\n",
       "      <td>500003</td>\n",
       "      <td>Nike</td>\n",
       "      <td>Nylon</td>\n",
       "      <td>Large</td>\n",
       "      <td>7.0</td>\n",
       "      <td>No</td>\n",
       "      <td>No</td>\n",
       "      <td>Messenger</td>\n",
       "      <td>Pink</td>\n",
       "      <td>7.719581</td>\n",
       "      <td>48.09209</td>\n",
       "    </tr>\n",
       "    <tr>\n",
       "      <th>4</th>\n",
       "      <td>500004</td>\n",
       "      <td>Nike</td>\n",
       "      <td>Leather</td>\n",
       "      <td>Large</td>\n",
       "      <td>9.0</td>\n",
       "      <td>No</td>\n",
       "      <td>Yes</td>\n",
       "      <td>Tote</td>\n",
       "      <td>Green</td>\n",
       "      <td>22.741826</td>\n",
       "      <td>77.32461</td>\n",
       "    </tr>\n",
       "    <tr>\n",
       "      <th>...</th>\n",
       "      <td>...</td>\n",
       "      <td>...</td>\n",
       "      <td>...</td>\n",
       "      <td>...</td>\n",
       "      <td>...</td>\n",
       "      <td>...</td>\n",
       "      <td>...</td>\n",
       "      <td>...</td>\n",
       "      <td>...</td>\n",
       "      <td>...</td>\n",
       "      <td>...</td>\n",
       "    </tr>\n",
       "    <tr>\n",
       "      <th>3694313</th>\n",
       "      <td>4194313</td>\n",
       "      <td>Nike</td>\n",
       "      <td>Canvas</td>\n",
       "      <td>NaN</td>\n",
       "      <td>3.0</td>\n",
       "      <td>Yes</td>\n",
       "      <td>Yes</td>\n",
       "      <td>Messenger</td>\n",
       "      <td>Blue</td>\n",
       "      <td>28.098120</td>\n",
       "      <td>104.74460</td>\n",
       "    </tr>\n",
       "    <tr>\n",
       "      <th>3694314</th>\n",
       "      <td>4194314</td>\n",
       "      <td>Puma</td>\n",
       "      <td>Leather</td>\n",
       "      <td>Small</td>\n",
       "      <td>10.0</td>\n",
       "      <td>Yes</td>\n",
       "      <td>Yes</td>\n",
       "      <td>Tote</td>\n",
       "      <td>Blue</td>\n",
       "      <td>17.379531</td>\n",
       "      <td>122.39043</td>\n",
       "    </tr>\n",
       "    <tr>\n",
       "      <th>3694315</th>\n",
       "      <td>4194315</td>\n",
       "      <td>Jansport</td>\n",
       "      <td>Canvas</td>\n",
       "      <td>Large</td>\n",
       "      <td>10.0</td>\n",
       "      <td>No</td>\n",
       "      <td>No</td>\n",
       "      <td>Backpack</td>\n",
       "      <td>Red</td>\n",
       "      <td>17.037708</td>\n",
       "      <td>148.18470</td>\n",
       "    </tr>\n",
       "    <tr>\n",
       "      <th>3694316</th>\n",
       "      <td>4194316</td>\n",
       "      <td>Puma</td>\n",
       "      <td>Canvas</td>\n",
       "      <td>NaN</td>\n",
       "      <td>2.0</td>\n",
       "      <td>No</td>\n",
       "      <td>No</td>\n",
       "      <td>Backpack</td>\n",
       "      <td>Gray</td>\n",
       "      <td>28.783339</td>\n",
       "      <td>22.32269</td>\n",
       "    </tr>\n",
       "    <tr>\n",
       "      <th>3694317</th>\n",
       "      <td>4194317</td>\n",
       "      <td>Under Armour</td>\n",
       "      <td>Polyester</td>\n",
       "      <td>Medium</td>\n",
       "      <td>2.0</td>\n",
       "      <td>Yes</td>\n",
       "      <td>No</td>\n",
       "      <td>Backpack</td>\n",
       "      <td>Blue</td>\n",
       "      <td>23.076169</td>\n",
       "      <td>107.61199</td>\n",
       "    </tr>\n",
       "  </tbody>\n",
       "</table>\n",
       "<p>3694318 rows × 11 columns</p>\n",
       "</div>"
      ],
      "text/plain": [
       "              id         Brand   Material    Size  Compartments  \\\n",
       "0         500000  Under Armour     Canvas   Small          10.0   \n",
       "1         500001          Puma  Polyester   Small           4.0   \n",
       "2         500002      Jansport  Polyester   Small           8.0   \n",
       "3         500003          Nike      Nylon   Large           7.0   \n",
       "4         500004          Nike    Leather   Large           9.0   \n",
       "...          ...           ...        ...     ...           ...   \n",
       "3694313  4194313          Nike     Canvas     NaN           3.0   \n",
       "3694314  4194314          Puma    Leather   Small          10.0   \n",
       "3694315  4194315      Jansport     Canvas   Large          10.0   \n",
       "3694316  4194316          Puma     Canvas     NaN           2.0   \n",
       "3694317  4194317  Under Armour  Polyester  Medium           2.0   \n",
       "\n",
       "        Laptop Compartment Waterproof      Style  Color  Weight Capacity (kg)  \\\n",
       "0                      Yes        Yes       Tote   Blue             23.882052   \n",
       "1                       No        Yes   Backpack  Green             11.869095   \n",
       "2                      Yes        Yes       Tote    Red              8.092302   \n",
       "3                       No         No  Messenger   Pink              7.719581   \n",
       "4                       No        Yes       Tote  Green             22.741826   \n",
       "...                    ...        ...        ...    ...                   ...   \n",
       "3694313                Yes        Yes  Messenger   Blue             28.098120   \n",
       "3694314                Yes        Yes       Tote   Blue             17.379531   \n",
       "3694315                 No         No   Backpack    Red             17.037708   \n",
       "3694316                 No         No   Backpack   Gray             28.783339   \n",
       "3694317                Yes         No   Backpack   Blue             23.076169   \n",
       "\n",
       "             Price  \n",
       "0        114.11068  \n",
       "1        129.74972  \n",
       "2         21.37370  \n",
       "3         48.09209  \n",
       "4         77.32461  \n",
       "...            ...  \n",
       "3694313  104.74460  \n",
       "3694314  122.39043  \n",
       "3694315  148.18470  \n",
       "3694316   22.32269  \n",
       "3694317  107.61199  \n",
       "\n",
       "[3694318 rows x 11 columns]"
      ]
     },
     "execution_count": 3,
     "metadata": {},
     "output_type": "execute_result"
    }
   ],
   "source": [
    "Backpack_df = pd.read_csv('Data/training_extra.csv')\n",
    "Backpack_df"
   ]
  },
  {
   "cell_type": "markdown",
   "id": "122a91c4-cdfb-45e1-8a37-9b5febbcf526",
   "metadata": {},
   "source": [
    "## Preparation of the data frame\n",
    "\n",
    "### get_dummies\n",
    "- Brand\n",
    "- Material\n",
    "- Style\n",
    "- Color\n",
    "\n",
    "### binaries \n",
    "- Laptop Compartment\n",
    "- Waterproof\n"
   ]
  },
  {
   "cell_type": "code",
   "execution_count": 4,
   "id": "cec3f948-e2c6-4f71-a003-bced6cdd8ca8",
   "metadata": {},
   "outputs": [],
   "source": [
    "    def tamaño(value):\n",
    "        if value in ['Large']:\n",
    "            return 3\n",
    "        elif value in ['Medium']:\n",
    "            return 2\n",
    "        elif value in ['Small']:\n",
    "            return 1\n",
    "        else:\n",
    "            return 0"
   ]
  },
  {
   "cell_type": "code",
   "execution_count": 5,
   "id": "5e138215-7598-4a28-abed-9bc820aeaf75",
   "metadata": {},
   "outputs": [],
   "source": [
    "Backpack_df['Size'] = Backpack_df['Size'].apply(tamaño)"
   ]
  },
  {
   "cell_type": "code",
   "execution_count": 6,
   "id": "2cfdc8f1-caec-4f77-bbf8-2989803a25cf",
   "metadata": {},
   "outputs": [
    {
     "name": "stderr",
     "output_type": "stream",
     "text": [
      "/var/folders/_2/nh5rkkms0rbdwypbjgwb50xh0000gn/T/ipykernel_68773/105831996.py:2: FutureWarning: Downcasting behavior in `replace` is deprecated and will be removed in a future version. To retain the old behavior, explicitly call `result.infer_objects(copy=False)`. To opt-in to the future behavior, set `pd.set_option('future.no_silent_downcasting', True)`\n",
      "  Backpack_df['Laptop Compartment'] = Backpack_df['Laptop Compartment'].replace(\n"
     ]
    }
   ],
   "source": [
    "# 'Laptop Compartment'  yes = 1 No = 0 Nan = 0.5 'Laptop Compartment'\n",
    "Backpack_df['Laptop Compartment'] = Backpack_df['Laptop Compartment'].replace(\n",
    "    to_replace={'Yes': 1, 'No': 0}).fillna(0.5)"
   ]
  },
  {
   "cell_type": "code",
   "execution_count": 7,
   "id": "b9e77adf-27ad-4f08-ab65-420f69081650",
   "metadata": {},
   "outputs": [
    {
     "name": "stderr",
     "output_type": "stream",
     "text": [
      "/var/folders/_2/nh5rkkms0rbdwypbjgwb50xh0000gn/T/ipykernel_68773/1241050198.py:2: FutureWarning: Downcasting behavior in `replace` is deprecated and will be removed in a future version. To retain the old behavior, explicitly call `result.infer_objects(copy=False)`. To opt-in to the future behavior, set `pd.set_option('future.no_silent_downcasting', True)`\n",
      "  Backpack_df['Waterproof'] = Backpack_df['Waterproof'].replace(\n"
     ]
    }
   ],
   "source": [
    "# 'Waterproof' yes = 1 No = 0 Nan = 0.5 \n",
    "Backpack_df['Waterproof'] = Backpack_df['Waterproof'].replace(\n",
    "    to_replace={'Yes': 1, 'No': 0}).fillna(0.5)"
   ]
  },
  {
   "cell_type": "code",
   "execution_count": 8,
   "id": "caebfd53-cbdb-4581-8862-6c28a1deb0ec",
   "metadata": {},
   "outputs": [],
   "source": [
    "# 'Weight Capacity (kg)' NaN = average ()\n",
    "Backpack_df['Weight Capacity (kg)'] = Backpack_df['Weight Capacity (kg)'].fillna(\n",
    "    Backpack_df['Weight Capacity (kg)'].mean())"
   ]
  },
  {
   "cell_type": "code",
   "execution_count": 9,
   "id": "1d610abc-0401-4ab4-b5d4-c48a870ce2b1",
   "metadata": {},
   "outputs": [],
   "source": [
    "brand = pd.get_dummies(data = Backpack_df['Brand'], \n",
    "                       columns = Backpack_df['Brand'].unique(),dtype=int)"
   ]
  },
  {
   "cell_type": "code",
   "execution_count": 10,
   "id": "41f1c930-e0e6-441b-8006-f660759ea888",
   "metadata": {},
   "outputs": [],
   "source": [
    "material = pd.get_dummies(data = Backpack_df['Material'], \n",
    "                          columns = Backpack_df['Material'].unique(),dtype=int)"
   ]
  },
  {
   "cell_type": "code",
   "execution_count": 11,
   "id": "d00c7431-bf63-4a7a-8661-29f539ab951d",
   "metadata": {},
   "outputs": [],
   "source": [
    "style = pd.get_dummies(data = Backpack_df['Style'], \n",
    "                       columns = Backpack_df['Style'].unique(),dtype=int)"
   ]
  },
  {
   "cell_type": "code",
   "execution_count": 12,
   "id": "63381371-bc7d-4f6d-9b72-0d8b9245f841",
   "metadata": {},
   "outputs": [],
   "source": [
    "color = pd.get_dummies(data = Backpack_df['Color'], \n",
    "                       columns = Backpack_df['Color'].unique(),dtype=int)"
   ]
  },
  {
   "cell_type": "code",
   "execution_count": 13,
   "id": "5f2cc114-1e9d-475c-9e92-ebd177cf9796",
   "metadata": {},
   "outputs": [],
   "source": [
    "BP_dummies = pd.concat ( [Backpack_df, brand, material, style,color], axis =1)"
   ]
  },
  {
   "cell_type": "code",
   "execution_count": 14,
   "id": "7149b691-db32-4072-830e-ac9b297edcb5",
   "metadata": {},
   "outputs": [],
   "source": [
    "BP_dummies = BP_dummies.drop(columns=['Brand','Material','Style','Color'])"
   ]
  },
  {
   "cell_type": "code",
   "execution_count": 15,
   "id": "993ad27b-f37c-437c-a187-39406756efa7",
   "metadata": {},
   "outputs": [],
   "source": [
    "BP_dummies['Weight Capacity (kg)'] = BP_dummies['Weight Capacity (kg)'].fillna(BP_dummies['Weight Capacity (kg)'].mean())"
   ]
  },
  {
   "cell_type": "code",
   "execution_count": 16,
   "id": "f77ba245-9936-4310-9251-ed13595d65de",
   "metadata": {},
   "outputs": [],
   "source": [
    "BP_dummies['Laptop Compartment'] = BP_dummies['Laptop Compartment'].fillna(0)"
   ]
  },
  {
   "cell_type": "code",
   "execution_count": 17,
   "id": "f97875a4-a89c-4e30-9f50-9b840142ff38",
   "metadata": {},
   "outputs": [],
   "source": [
    "BP_dummies['Waterproof'] = BP_dummies['Waterproof'].fillna(0)"
   ]
  },
  {
   "cell_type": "code",
   "execution_count": 18,
   "id": "e7366d58-ce2b-4cdb-a656-e83527b97eee",
   "metadata": {},
   "outputs": [
    {
     "name": "stdout",
     "output_type": "stream",
     "text": [
      "<class 'pandas.core.frame.DataFrame'>\n",
      "RangeIndex: 3694318 entries, 0 to 3694317\n",
      "Data columns (total 25 columns):\n",
      " #   Column                Dtype  \n",
      "---  ------                -----  \n",
      " 0   id                    int64  \n",
      " 1   Size                  int64  \n",
      " 2   Compartments          float64\n",
      " 3   Laptop Compartment    float64\n",
      " 4   Waterproof            float64\n",
      " 5   Weight Capacity (kg)  float64\n",
      " 6   Price                 float64\n",
      " 7   Adidas                int64  \n",
      " 8   Jansport              int64  \n",
      " 9   Nike                  int64  \n",
      " 10  Puma                  int64  \n",
      " 11  Under Armour          int64  \n",
      " 12  Canvas                int64  \n",
      " 13  Leather               int64  \n",
      " 14  Nylon                 int64  \n",
      " 15  Polyester             int64  \n",
      " 16  Backpack              int64  \n",
      " 17  Messenger             int64  \n",
      " 18  Tote                  int64  \n",
      " 19  Black                 int64  \n",
      " 20  Blue                  int64  \n",
      " 21  Gray                  int64  \n",
      " 22  Green                 int64  \n",
      " 23  Pink                  int64  \n",
      " 24  Red                   int64  \n",
      "dtypes: float64(5), int64(20)\n",
      "memory usage: 704.6 MB\n"
     ]
    }
   ],
   "source": [
    "BP_dummies.info()"
   ]
  },
  {
   "cell_type": "code",
   "execution_count": 19,
   "id": "375ed980-c961-4eb8-9432-7ff85ee447f7",
   "metadata": {},
   "outputs": [],
   "source": [
    "BP_dummies.to_csv('Data/BP_dummies.train.extra.V1.2.csv', index=False)"
   ]
  },
  {
   "cell_type": "code",
   "execution_count": null,
   "id": "cb0719b1-ad3c-4362-ab02-b1b54284126c",
   "metadata": {},
   "outputs": [],
   "source": []
  }
 ],
 "metadata": {
  "kernelspec": {
   "display_name": "Python 3 (ipykernel)",
   "language": "python",
   "name": "python3"
  },
  "language_info": {
   "codemirror_mode": {
    "name": "ipython",
    "version": 3
   },
   "file_extension": ".py",
   "mimetype": "text/x-python",
   "name": "python",
   "nbconvert_exporter": "python",
   "pygments_lexer": "ipython3",
   "version": "3.13.1"
  }
 },
 "nbformat": 4,
 "nbformat_minor": 5
}
